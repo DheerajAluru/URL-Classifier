{
 "cells": [
  {
   "cell_type": "code",
   "execution_count": 12,
   "metadata": {},
   "outputs": [
    {
     "ename": "ModuleNotFoundError",
     "evalue": "No module named 'keras'",
     "output_type": "error",
     "traceback": [
      "\u001b[1;31m---------------------------------------------------------------------------\u001b[0m",
      "\u001b[1;31mModuleNotFoundError\u001b[0m                       Traceback (most recent call last)",
      "\u001b[1;32m<ipython-input-12-e47860e8c01d>\u001b[0m in \u001b[0;36m<module>\u001b[1;34m()\u001b[0m\n\u001b[0;32m     18\u001b[0m \u001b[1;32mfrom\u001b[0m \u001b[0msklearn\u001b[0m \u001b[1;32mimport\u001b[0m \u001b[0mtree\u001b[0m\u001b[1;33m\u001b[0m\u001b[0m\n\u001b[0;32m     19\u001b[0m \u001b[1;32mfrom\u001b[0m \u001b[0msklearn\u001b[0m\u001b[1;33m.\u001b[0m\u001b[0mtree\u001b[0m \u001b[1;32mimport\u001b[0m \u001b[0mDecisionTreeClassifier\u001b[0m\u001b[1;33m\u001b[0m\u001b[0m\n\u001b[1;32m---> 20\u001b[1;33m \u001b[1;32mfrom\u001b[0m \u001b[0mkeras\u001b[0m\u001b[1;33m.\u001b[0m\u001b[0mutils\u001b[0m \u001b[1;32mimport\u001b[0m \u001b[0mto_categorical\u001b[0m\u001b[1;33m\u001b[0m\u001b[0m\n\u001b[0m\u001b[0;32m     21\u001b[0m \u001b[1;32mfrom\u001b[0m \u001b[0mkeras\u001b[0m\u001b[1;33m.\u001b[0m\u001b[0mmodels\u001b[0m \u001b[1;32mimport\u001b[0m \u001b[0mSequential\u001b[0m\u001b[1;33m\u001b[0m\u001b[0m\n\u001b[0;32m     22\u001b[0m \u001b[1;32mfrom\u001b[0m \u001b[0mkeras\u001b[0m\u001b[1;33m.\u001b[0m\u001b[0mlayers\u001b[0m\u001b[1;33m.\u001b[0m\u001b[0mcore\u001b[0m \u001b[1;32mimport\u001b[0m \u001b[0mDense\u001b[0m\u001b[1;33m,\u001b[0m \u001b[0mActivation\u001b[0m\u001b[1;33m\u001b[0m\u001b[0m\n",
      "\u001b[1;31mModuleNotFoundError\u001b[0m: No module named 'keras'"
     ]
    }
   ],
   "source": [
    "import pandas as pd\n",
    "import numpy as np\n",
    "from sklearn import linear_model\n",
    "from sklearn import metrics\n",
    "from sklearn.model_selection import train_test_split\n",
    "%matplotlib inline \n",
    "from sklearn.utils import shuffle\n",
    "import matplotlib.pyplot as plt\n",
    "from numpy import array\n",
    "from numpy import argmax\n",
    "from sklearn.preprocessing import LabelEncoder\n",
    "from sklearn.preprocessing import OneHotEncoder\n",
    "from sklearn.feature_extraction.text import TfidfVectorizer\n",
    "from sklearn.feature_extraction.text import TfidfTransformer\n",
    "from sklearn.naive_bayes import MultinomialNB\n",
    "from sklearn.feature_extraction.text import CountVectorizer\n",
    "from sklearn.feature_selection import chi2\n",
    "from sklearn import tree\n",
    "from sklearn.tree import DecisionTreeClassifier\n",
    "from keras.utils import to_categorical\n",
    "from keras.models import Sequential\n",
    "from keras.layers.core import Dense, Activation\n",
    "from keras.utils import np_utils\n",
    "import re\n",
    "from keras.preprocessing import sequence\n",
    "from keras.preprocessing.text import one_hot\n",
    "from keras.preprocessing.text import text_to_word_sequence\n",
    "from sklearn.svm import LinearSVC\n"
   ]
  },
  {
   "cell_type": "code",
   "execution_count": 2,
   "metadata": {},
   "outputs": [
    {
     "data": {
      "text/html": [
       "<div>\n",
       "<style scoped>\n",
       "    .dataframe tbody tr th:only-of-type {\n",
       "        vertical-align: middle;\n",
       "    }\n",
       "\n",
       "    .dataframe tbody tr th {\n",
       "        vertical-align: top;\n",
       "    }\n",
       "\n",
       "    .dataframe thead th {\n",
       "        text-align: right;\n",
       "    }\n",
       "</style>\n",
       "<table border=\"1\" class=\"dataframe\">\n",
       "  <thead>\n",
       "    <tr style=\"text-align: right;\">\n",
       "      <th></th>\n",
       "      <th>URL</th>\n",
       "      <th>Category</th>\n",
       "    </tr>\n",
       "  </thead>\n",
       "  <tbody>\n",
       "    <tr>\n",
       "      <th>1562974</th>\n",
       "      <td>http://www.maxpreps.com/</td>\n",
       "      <td>Sports</td>\n",
       "    </tr>\n",
       "    <tr>\n",
       "      <th>1562975</th>\n",
       "      <td>http://www.myscore.com/</td>\n",
       "      <td>Sports</td>\n",
       "    </tr>\n",
       "    <tr>\n",
       "      <th>1562976</th>\n",
       "      <td>http://sportsillustrated.cnn.com/highschool</td>\n",
       "      <td>Sports</td>\n",
       "    </tr>\n",
       "    <tr>\n",
       "      <th>1562977</th>\n",
       "      <td>http://rss.cnn.com/rss/si_highschool?format=xml</td>\n",
       "      <td>Sports</td>\n",
       "    </tr>\n",
       "    <tr>\n",
       "      <th>1562978</th>\n",
       "      <td>http://www.usatoday.com/sports/preps/</td>\n",
       "      <td>Sports</td>\n",
       "    </tr>\n",
       "  </tbody>\n",
       "</table>\n",
       "</div>"
      ],
      "text/plain": [
       "                                                     URL Category\n",
       "1562974                         http://www.maxpreps.com/   Sports\n",
       "1562975                          http://www.myscore.com/   Sports\n",
       "1562976      http://sportsillustrated.cnn.com/highschool   Sports\n",
       "1562977  http://rss.cnn.com/rss/si_highschool?format=xml   Sports\n",
       "1562978            http://www.usatoday.com/sports/preps/   Sports"
      ]
     },
     "execution_count": 2,
     "metadata": {},
     "output_type": "execute_result"
    }
   ],
   "source": [
    "names=['URL','Category']\n",
    "df=pd.read_csv('URL Classification.csv',names=names, na_filter=False)\n",
    "df1 = df[1:2001]\n",
    "df2 = df[50000:52000]\n",
    "df3 = df[520000:522000]\n",
    "df4 =df[535300:537300]\n",
    "df5 = df[650000:652000]\n",
    "df6= df[710000:712000]\n",
    "df7=  df[764200:766200]\n",
    "df8=  df[793080:795080]\n",
    "df9=  df[839730:841730]\n",
    "df10=  df[850000:852000]\n",
    "df11=  df[955250:957250]\n",
    "df12=  df[1013000:1015000]\n",
    "df13=  df[1143000:1145000]\n",
    "df14=  df[1293000:1295000]\n",
    "df15=  df[1492000:1494000]\n",
    "#df6 = df[77000:1562978]\n",
    "dt=pd.concat([df1,df2,df3,df4,df5,df6,df7,df8,df9,df10,df11,df12,df13,df14,df15], axis=0)\n",
    "df.drop(df.index[1:2000],inplace= True)\n",
    "df.drop(df.index[50000:52000],inplace= True)\n",
    "df.drop(df.index[520000:522000],inplace= True)\n",
    "df.drop(df.index[535300:537300],inplace= True)\n",
    "df.drop(df.index[650000:652000],inplace= True)\n",
    "df.drop(df.index[710000:712000],inplace= True)\n",
    "df.drop(df.index[764200:766200],inplace= True)\n",
    "df.drop(df.index[793080:795080],inplace= True)\n",
    "df.drop(df.index[839730:841730],inplace= True)\n",
    "df.drop(df.index[850000:852000],inplace= True)\n",
    "df.drop(df.index[955250:957250],inplace= True)\n",
    "df.drop(df.index[1013000:1015000],inplace= True)\n",
    "df.drop(df.index[1143000:1145000],inplace= True)\n",
    "df.drop(df.index[1293000:1295000],inplace= True)\n",
    "df.drop(df.index[1492000:1494000],inplace= True)\n",
    "df.tail()"
   ]
  },
  {
   "cell_type": "code",
   "execution_count": 3,
   "metadata": {},
   "outputs": [
    {
     "data": {
      "text/plain": [
       "Text(0,0.5,'Total Number Of Individual Category for Training')"
      ]
     },
     "execution_count": 3,
     "metadata": {},
     "output_type": "execute_result"
    },
    {
     "data": {
      "image/png": "[encoded data removed]",
      "text/plain": [
       "<matplotlib.figure.Figure at 0x22056efb7f0>"
      ]
     },
     "metadata": {},
     "output_type": "display_data"
    }
   ],
   "source": [
    "df.Category.value_counts().plot(figsize=(12,5),kind='bar',color='green');\n",
    "plt.xlabel('Category')\n",
    "plt.ylabel('Total Number Of Individual Category for Training')"
   ]
  },
  {
   "cell_type": "code",
   "execution_count": 4,
   "metadata": {},
   "outputs": [
    {
     "data": {
      "text/plain": [
       "Text(0,0.5,'Total Number Of Individual Category for Testing')"
      ]
     },
     "execution_count": 4,
     "metadata": {},
     "output_type": "execute_result"
    },
    {
     "data": {
      "image/png": "[encoded data removed]",
      "text/plain": [
       "<matplotlib.figure.Figure at 0x22056efb470>"
      ]
     },
     "metadata": {},
     "output_type": "display_data"
    }
   ],
   "source": [
    "dt.Category.value_counts().plot(figsize=(12,5),kind='bar',color='green');\n",
    "plt.xlabel('Category')\n",
    "plt.ylabel('Total Number Of Individual Category for Testing')"
   ]
  },
  {
   "cell_type": "code",
   "execution_count": 5,
   "metadata": {},
   "outputs": [
    {
     "data": {
      "text/plain": [
       "(1532979,)"
      ]
     },
     "execution_count": 5,
     "metadata": {},
     "output_type": "execute_result"
    }
   ],
   "source": [
    "X_train=df['URL']\n",
    "y_train=df['Category']\n",
    "#print(X_train)\n",
    "X_train.shape"
   ]
  },
  {
   "cell_type": "code",
   "execution_count": 6,
   "metadata": {},
   "outputs": [
    {
     "data": {
      "text/plain": [
       "(30000,)"
      ]
     },
     "execution_count": 6,
     "metadata": {},
     "output_type": "execute_result"
    }
   ],
   "source": [
    "X_test=dt['URL']\n",
    "y_test=dt['Category']\n",
    "#print(X_test)\n",
    "X_test.shape"
   ]
  },
  {
   "cell_type": "code",
   "execution_count": 7,
   "metadata": {},
   "outputs": [],
   "source": [
    "from sklearn.pipeline import Pipeline\n",
    "text_clf = Pipeline([('vect', CountVectorizer()), ('tfidf', TfidfTransformer()), ('clf', MultinomialNB())])\n",
    "text_clf = text_clf.fit(X_train, y_train)"
   ]
  },
  {
   "cell_type": "code",
   "execution_count": 8,
   "metadata": {},
   "outputs": [],
   "source": [
    "from sklearn.model_selection import RandomizedSearchCV\n",
    "n_iter_search = 5\n",
    "parameters = {'vect__ngram_range': [(1, 1), (1, 2)], 'tfidf__use_idf': (True, False), 'clf__alpha': (1e-2, 1e-3)}\n",
    "gs_clf = RandomizedSearchCV(text_clf, parameters, n_iter = n_iter_search)\n",
    "gs_clf = gs_clf.fit(X_train, y_train)"
   ]
  },
  {
   "cell_type": "code",
   "execution_count": 9,
   "metadata": {},
   "outputs": [
    {
     "data": {
      "text/plain": [
       "(0.8859315528951907, 0.8459333333333333, 0.834003526296982, None)"
      ]
     },
     "execution_count": 9,
     "metadata": {},
     "output_type": "execute_result"
    }
   ],
   "source": [
    "from sklearn.metrics import precision_recall_fscore_support\n",
    "from sklearn.metrics import confusion_matrix\n",
    "#grid_mean_scores = [result.mean_validation_score for result in gs_clf.grid_scores_]\n",
    "#print(grid_mean_scores)\n",
    "y_pred=gs_clf.predict(X_test)\n",
    "precision_recall_fscore_support(y_test, y_pred, average='weighted')"
   ]
  },
  {
   "cell_type": "code",
   "execution_count": 10,
   "metadata": {},
   "outputs": [
    {
     "name": "stdout",
     "output_type": "stream",
     "text": [
      "             precision    recall  f1-score   support\n",
      "\n",
      "      Adult       0.98      0.17      0.29      2000\n",
      "       Arts       0.49      0.91      0.63      2000\n",
      "   Business       0.72      1.00      0.83      2000\n",
      "  Computers       0.91      0.95      0.93      2000\n",
      "      Games       0.96      0.93      0.94      2000\n",
      "     Health       0.99      0.95      0.97      2000\n",
      "       Home       0.98      0.87      0.92      2000\n",
      "       Kids       0.93      0.64      0.75      2000\n",
      "       News       1.00      0.56      0.72      2000\n",
      " Recreation       0.92      0.98      0.95      2000\n",
      "  Reference       0.77      0.91      0.83      2000\n",
      "    Science       0.90      0.95      0.92      2000\n",
      "   Shopping       0.97      0.97      0.97      2000\n",
      "    Society       0.81      1.00      0.89      2000\n",
      "     Sports       0.97      0.92      0.95      2000\n",
      "\n",
      "avg / total       0.89      0.85      0.83     30000\n",
      "\n"
     ]
    }
   ],
   "source": [
    "y_pred=gs_clf.predict(X_test)\n",
    "from sklearn.metrics import classification_report\n",
    "print(classification_report(y_test, y_pred))"
   ]
  },
  {
   "cell_type": "code",
   "execution_count": 11,
   "metadata": {},
   "outputs": [
    {
     "name": "stdout",
     "output_type": "stream",
     "text": [
      "             precision    recall  f1-score   support\n",
      "\n",
      "      Adult     0.9802    0.1730    0.2941      2000\n",
      "       Arts     0.4888    0.9055    0.6349      2000\n",
      "   Business     0.7165    0.9960    0.8335      2000\n",
      "  Computers     0.9097    0.9475    0.9282      2000\n",
      "      Games     0.9636    0.9265    0.9447      2000\n",
      "     Health     0.9870    0.9525    0.9695      2000\n",
      "       Home     0.9774    0.8660    0.9183      2000\n",
      "       Kids     0.9271    0.6355    0.7541      2000\n",
      "       News     0.9982    0.5585    0.7163      2000\n",
      " Recreation     0.9175    0.9845    0.9498      2000\n",
      "  Reference     0.7735    0.9050    0.8341      2000\n",
      "    Science     0.8996    0.9495    0.9239      2000\n",
      "   Shopping     0.9725    0.9715    0.9720      2000\n",
      "    Society     0.8057    0.9955    0.8906      2000\n",
      "     Sports     0.9715    0.9220    0.9461      2000\n",
      "\n",
      "avg / total     0.8859    0.8459    0.8340     30000\n",
      "\n"
     ]
    }
   ],
   "source": [
    "print(classification_report(y_test, y_pred, digits=4))"
   ]
  },
  {
   "cell_type": "code",
   "execution_count": null,
   "metadata": {},
   "outputs": [],
   "source": [
    "import seaborn as sn\n",
    "import pandas as pd\n",
    "import matplotlib.pyplot as plt\n",
    "import numpy as np\n",
    "%matplotlib inline\n",
    "array = confusion_matrix(y_test, y_pred)\n",
    "cm=np.array(array)\n",
    "cm = cm.astype('float') / cm.sum(axis=1)[:, np.newaxis]\n",
    "df_cm = pd.DataFrame(cm, index = [i for i in \"0123456789ABCDE\"],\n",
    "                  columns = [i for i in \"0123456789ABCDE\"])\n",
    "plt.figure(figsize = (20,15))\n",
    "sn.heatmap(df_cm, annot=True)"
   ]
  },
  {
   "cell_type": "code",
   "execution_count": null,
   "metadata": {},
   "outputs": [],
   "source": [
    "print('Naive Bayes Train Accuracy = ',metrics.accuracy_score(y_train,gs_clf.predict(X_train)))\n",
    "print('Naive Bayes Test Accuracy = ',metrics.accuracy_score(y_test,gs_clf.predict(X_test)))"
   ]
  },
  {
   "cell_type": "code",
   "execution_count": 15,
   "metadata": {},
   "outputs": [
    {
     "name": "stdout",
     "output_type": "stream",
     "text": [
      "Enter a URL to find out its domain. Example: http://medium.com http://github.com\n",
      "The URL http://github.com belongs to the domain ['Computers']\n"
     ]
    }
   ],
   "source": [
    "ur=input(\"Enter a URL to find out its domain. Example: http://medium.com \")\n",
    "dom=gs_clf.predict([ur])\n",
    "#print(gs_clf.predict(['http://www.businesstoday.net/']))\n",
    "print(f\"The URL {ur} belongs to the domain {dom}\")"
   ]
  },
  {
   "cell_type": "code",
   "execution_count": null,
   "metadata": {},
   "outputs": [],
   "source": []
  }
 ],
 "metadata": {
  "kernelspec": {
   "display_name": "Python 3",
   "language": "python",
   "name": "python3"
  },
  "language_info": {
   "codemirror_mode": {
    "name": "ipython",
    "version": 3
   },
   "file_extension": ".py",
   "mimetype": "text/x-python",
   "name": "python",
   "nbconvert_exporter": "python",
   "pygments_lexer": "ipython3",
   "version": "3.6.4"
  }
 },
 "nbformat": 4,
 "nbformat_minor": 2
}
